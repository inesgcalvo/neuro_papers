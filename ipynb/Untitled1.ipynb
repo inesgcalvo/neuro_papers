{
 "cells": [
  {
   "cell_type": "code",
   "execution_count": null,
   "id": "ef8b1f99",
   "metadata": {},
   "outputs": [],
   "source": []
  },
  {
   "cell_type": "code",
   "execution_count": 4,
   "id": "9b17ca68",
   "metadata": {},
   "outputs": [],
   "source": [
    "# %pip install vaex"
   ]
  },
  {
   "cell_type": "code",
   "execution_count": 5,
   "id": "3bd8ec64",
   "metadata": {},
   "outputs": [],
   "source": [
    "# %pip install vaex-core"
   ]
  },
  {
   "cell_type": "code",
   "execution_count": 6,
   "id": "c9541cbc",
   "metadata": {},
   "outputs": [],
   "source": [
    "# %pip install vaex-viz"
   ]
  },
  {
   "cell_type": "code",
   "execution_count": 1,
   "id": "3bc3c777",
   "metadata": {},
   "outputs": [
    {
     "ename": "ModuleNotFoundError",
     "evalue": "No module named 'vaex'",
     "output_type": "error",
     "traceback": [
      "\u001b[1;31m---------------------------------------------------------------------------\u001b[0m",
      "\u001b[1;31mModuleNotFoundError\u001b[0m                       Traceback (most recent call last)",
      "Cell \u001b[1;32mIn[1], line 4\u001b[0m\n\u001b[0;32m      1\u001b[0m \u001b[38;5;66;03m# Libraries Importation\u001b[39;00m\n\u001b[0;32m      3\u001b[0m \u001b[38;5;28;01mimport\u001b[39;00m \u001b[38;5;21;01mtime\u001b[39;00m\n\u001b[1;32m----> 4\u001b[0m \u001b[38;5;28;01mimport\u001b[39;00m \u001b[38;5;21;01mvaex\u001b[39;00m\n\u001b[0;32m      5\u001b[0m \u001b[38;5;28;01mimport\u001b[39;00m \u001b[38;5;21;01masyncio\u001b[39;00m\n\u001b[0;32m      6\u001b[0m \u001b[38;5;28;01mimport\u001b[39;00m \u001b[38;5;21;01mpylab\u001b[39;00m \u001b[38;5;28;01mas\u001b[39;00m \u001b[38;5;21;01mplt\u001b[39;00m\n",
      "\u001b[1;31mModuleNotFoundError\u001b[0m: No module named 'vaex'"
     ]
    }
   ],
   "source": [
    "# Libraries Importation\n",
    "\n",
    "# import time\n",
    "# import vaex\n",
    "# import asyncio\n",
    "# import pylab as plt\n",
    "# from selenium import webdriver\n",
    "# from selenium.webdriver.common.by import By\n",
    "# from selenium.webdriver.common.keys import Keys  \n",
    "# from selenium.webdriver.support.ui import Select\n",
    "\n",
    "# import warnings\n",
    "# warnings.filterwarnings('ignore')\n",
    "\n",
    "# %matplotlib inline"
   ]
  },
  {
   "cell_type": "code",
   "execution_count": null,
   "id": "81498b6d",
   "metadata": {},
   "outputs": [],
   "source": []
  }
 ],
 "metadata": {
  "kernelspec": {
   "display_name": "clase",
   "language": "python",
   "name": "clase"
  },
  "language_info": {
   "codemirror_mode": {
    "name": "ipython",
    "version": 3
   },
   "file_extension": ".py",
   "mimetype": "text/x-python",
   "name": "python",
   "nbconvert_exporter": "python",
   "pygments_lexer": "ipython3",
   "version": "3.11.5"
  }
 },
 "nbformat": 4,
 "nbformat_minor": 5
}
