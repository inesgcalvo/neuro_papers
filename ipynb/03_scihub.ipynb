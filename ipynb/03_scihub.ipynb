{
 "cells": [
  {
   "cell_type": "markdown",
   "id": "d5dfd309",
   "metadata": {},
   "source": [
    "1. Crear un nuevo entorno virtual\n",
    "2. Instalar Vaex e ir instalando las librerías que vaya necesitando, sin excederme\n"
   ]
  },
  {
   "cell_type": "markdown",
   "id": "2152912b",
   "metadata": {},
   "source": [
    "    ABRIR LA BASE DE DATOS DE 10GB\n",
    "    SELECCIONAR UNICAMENTE LOS ARTICULOS DE NEUROCIENCIA\n",
    "    GUARDARLA\n",
    "    SELECCIONAR SOLO LOS ARTICULOS DE 2022 Y 2023"
   ]
  },
  {
   "cell_type": "code",
   "execution_count": null,
   "id": "ff916b14",
   "metadata": {},
   "outputs": [],
   "source": []
  }
 ],
 "metadata": {
  "kernelspec": {
   "display_name": "clase",
   "language": "python",
   "name": "clase"
  },
  "language_info": {
   "codemirror_mode": {
    "name": "ipython",
    "version": 3
   },
   "file_extension": ".py",
   "mimetype": "text/x-python",
   "name": "python",
   "nbconvert_exporter": "python",
   "pygments_lexer": "ipython3",
   "version": "3.11.5"
  }
 },
 "nbformat": 4,
 "nbformat_minor": 5
}
