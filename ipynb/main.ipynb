{
 "cells": [
  {
   "cell_type": "code",
   "execution_count": 9,
   "id": "8026a36b",
   "metadata": {},
   "outputs": [],
   "source": [
    "import time\n",
    "import asyncio\n",
    "import pandas as pd\n",
    "from selenium import webdriver\n",
    "from selenium.webdriver.common.by import By\n",
    "from selenium.webdriver.common.keys import Keys  \n",
    "from selenium.webdriver.support.ui import Select\n",
    "\n",
    "\n",
    "import warnings\n",
    "warnings.filterwarnings('ignore')"
   ]
  },
  {
   "cell_type": "code",
   "execution_count": 10,
   "id": "84a251c7",
   "metadata": {},
   "outputs": [],
   "source": [
    "PATH = webdriver.FirefoxOptions()\n",
    "driver = webdriver.Firefox(options = PATH)"
   ]
  },
  {
   "cell_type": "code",
   "execution_count": 11,
   "id": "020548e2",
   "metadata": {},
   "outputs": [],
   "source": [
    "url = 'https://pubmed.ncbi.nlm.nih.gov/'"
   ]
  },
  {
   "cell_type": "code",
   "execution_count": 12,
   "id": "9bdfb564",
   "metadata": {},
   "outputs": [],
   "source": [
    "driver.get(url)"
   ]
  },
  {
   "cell_type": "code",
   "execution_count": 13,
   "id": "ceae5ea5",
   "metadata": {},
   "outputs": [],
   "source": [
    "search_selector = '#id_term'\n",
    "search = driver.find_element(By.CSS_SELECTOR, search_selector)\n",
    "search.send_keys('Neurosciences')\n",
    "search.send_keys(Keys.ENTER)"
   ]
  },
  {
   "cell_type": "code",
   "execution_count": 18,
   "id": "1a00efc1",
   "metadata": {},
   "outputs": [
    {
     "data": {
      "text/plain": [
       "['Translational Research in Perioperative Neurosciences.',\n",
       " 'Bharadwaj S, Palaniswamy SR.',\n",
       " 'Asian J Anesthesiol. 2022 Sep 1;60(3). doi: 10.6859/aja.202209_60(3).0001. Epub 2022 Jun 29.',\n",
       " 'PMID: 35791454 Review.',\n",
       " 'Synchrony between basic neuroscience investigations and clinical research has been deficient for quite some time. ...Perioperative translational science and contemporary translational research are the two major dimensions of translational research in perioperative neuro …']"
      ]
     },
     "execution_count": 18,
     "metadata": {},
     "output_type": "execute_result"
    }
   ],
   "source": [
    "article_selector = 'article.full-docsum:nth-child(2) > div:nth-child(2) > div:nth-child(1)'\n",
    "driver.find_elements(By.CSS_SELECTOR, article_selector)[0].text.split('\\n')"
   ]
  },
  {
   "cell_type": "code",
   "execution_count": null,
   "id": "631d88d4",
   "metadata": {},
   "outputs": [],
   "source": []
  }
 ],
 "metadata": {
  "kernelspec": {
   "display_name": "clase",
   "language": "python",
   "name": "clase"
  },
  "language_info": {
   "codemirror_mode": {
    "name": "ipython",
    "version": 3
   },
   "file_extension": ".py",
   "mimetype": "text/x-python",
   "name": "python",
   "nbconvert_exporter": "python",
   "pygments_lexer": "ipython3",
   "version": "3.11.5"
  }
 },
 "nbformat": 4,
 "nbformat_minor": 5
}
