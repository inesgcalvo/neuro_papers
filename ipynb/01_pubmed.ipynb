{
 "cells": [
  {
   "cell_type": "markdown",
   "id": "9a477f98",
   "metadata": {},
   "source": [
    "# 01. Web Scraping from PubMed\n",
    "\n",
    "![pubmed.svg](attachment:pubmed.svg)"
   ]
  },
  {
   "cell_type": "code",
   "execution_count": 1,
   "id": "516c6628",
   "metadata": {},
   "outputs": [],
   "source": [
    "# Libraries Importation\n",
    "\n",
    "import time\n",
    "import pandas as pd\n",
    "\n",
    "from selenium import webdriver\n",
    "from tqdm.notebook import tqdm\n",
    "from selenium.webdriver.common.by import By\n",
    "from selenium.webdriver.common.keys import Keys  \n",
    "from selenium.webdriver.support.ui import Select\n",
    "\n",
    "import warnings\n",
    "warnings.filterwarnings('ignore')"
   ]
  },
  {
   "cell_type": "code",
   "execution_count": 22,
   "id": "bdf8d463",
   "metadata": {},
   "outputs": [],
   "source": [
    "PATH = webdriver.FirefoxOptions()\n",
    "driver = webdriver.Firefox(options = PATH)"
   ]
  },
  {
   "cell_type": "markdown",
   "id": "17c81470",
   "metadata": {},
   "source": [
    "### Definition of the searching terms\n",
    "\n",
    "    (\n",
    "    (\"2022\"[Date - Publication]) \n",
    "    AND \n",
    "    (english[Language]) \n",
    "    AND \n",
    "    (neurosciences[MeSH Major Topic]) \n",
    "    AND \n",
    "    (journal article[Publication Type]) \n",
    "    NOT \n",
    "    (review[Publication Type])\n",
    "    )"
   ]
  },
  {
   "cell_type": "markdown",
   "id": "505bbc5f",
   "metadata": {},
   "source": [
    "### First page search: extract parameters"
   ]
  },
  {
   "cell_type": "code",
   "execution_count": 23,
   "id": "96367206",
   "metadata": {},
   "outputs": [
    {
     "data": {
      "application/vnd.jupyter.widget-view+json": {
       "model_id": "dd4a9c8f7bfb42ce8f5926b31e8a274e",
       "version_major": 2,
       "version_minor": 0
      },
      "text/plain": [
       "  0%|          | 0/2 [00:00<?, ?it/s]"
      ]
     },
     "metadata": {},
     "output_type": "display_data"
    },
    {
     "name": "stdout",
     "output_type": "stream",
     "text": [
      "The search 2022 presents 443 articles in 45 pages\n",
      "The search 2023 presents 336 articles in 34 pages\n"
     ]
    }
   ],
   "source": [
    "years = [2022, 2023]\n",
    "num_pages = []\n",
    "url_list = []\n",
    "\n",
    "for year in tqdm(years):\n",
    "    url = f'https://pubmed.ncbi.nlm.nih.gov/?term=%28%28%22{year}%22%5BDate+-+Publication%5D%29+AND+%28english%5BLanguage%5D%29+AND+%28neuron%5Bterm%5D%29+AND+%28journal+article%5BPublication+Type%5D%29+NOT+%28review%5BPublication+Type%5D%29%292&sort=pubdate'\n",
    "    url_list.append(url)\n",
    "    driver.get(url)\n",
    "    time.sleep(10)\n",
    "\n",
    "    # Number of articles\n",
    "    num_art_selector = '.results-amount-container > div:nth-child(1)'\n",
    "    num_art = driver.find_elements(By.CSS_SELECTOR, num_art_selector)[0].text.split(' ')[0]\n",
    "\n",
    "    # # Number of pages\n",
    "    num_pag_selector = 'html body main#search-page.search-page div.inner-wrap div#search-results.search-results div.top-wrapper div.top-pagination div.page-number-wrapper label.of-total-pages'\n",
    "    num_pag = driver.find_elements(By.CSS_SELECTOR, num_pag_selector)[0].text.split(' ')[1]\n",
    "    num_pages.append(num_pag)\n",
    "\n",
    "    print(f'The search {year} presents {num_art} articles in {num_pag} pages')"
   ]
  },
  {
   "cell_type": "code",
   "execution_count": 25,
   "id": "d1a7d170",
   "metadata": {},
   "outputs": [
    {
     "data": {
      "text/plain": [
       "2"
      ]
     },
     "execution_count": 25,
     "metadata": {},
     "output_type": "execute_result"
    }
   ],
   "source": [
    "len(url_list)"
   ]
  },
  {
   "cell_type": "code",
   "execution_count": 26,
   "id": "2f1df107",
   "metadata": {},
   "outputs": [],
   "source": [
    "# Create a Dictionary to save the results\n",
    "\n",
    "articles = {'DOI': [],\n",
    "            'title': [],\n",
    "            'authors': [],\n",
    "            'affiliations': [],\n",
    "            'journal': [],\n",
    "            'year': [],\n",
    "            'month': [],\n",
    "            'volume': [],\n",
    "            'first_page': [],\n",
    "            'last_page': [],\n",
    "            'PMID': [],\n",
    "            'PMCID': [],\n",
    "            'abstract': []}"
   ]
  },
  {
   "cell_type": "code",
   "execution_count": 27,
   "id": "e3ba92f1",
   "metadata": {},
   "outputs": [
    {
     "data": {
      "application/vnd.jupyter.widget-view+json": {
       "model_id": "55616dfa619143f38b94eafaea31f207",
       "version_major": 2,
       "version_minor": 0
      },
      "text/plain": [
       "  0%|          | 0/2 [00:00<?, ?it/s]"
      ]
     },
     "metadata": {},
     "output_type": "display_data"
    },
    {
     "name": "stdout",
     "output_type": "stream",
     "text": [
      "CPU times: total: 4min 59s\n",
      "Wall time: 46min 53s\n"
     ]
    }
   ],
   "source": [
    "%%time\n",
    "\n",
    "for url in tqdm(url_list):\n",
    "    driver.get(url)\n",
    "    \n",
    "    # open the first article website\n",
    "    driver.find_elements(By.CSS_SELECTOR, 'a.docsum-title')[0].click()\n",
    "    time.sleep(1)\n",
    "    \n",
    "    while True:\n",
    "        \n",
    "        # toogle the affiliations\n",
    "        try:\n",
    "            driver.find_elements(By.CSS_SELECTOR, '#toggle-authors')[0].click()\n",
    "        except:\n",
    "            continue\n",
    "\n",
    "        # Feed the dictionary    \n",
    "        articles['title'].append(driver.find_element(By.CSS_SELECTOR, 'h1.heading-title').text)\n",
    "        articles['journal'].append(driver.find_element(By.CSS_SELECTOR, 'div.article-source').text.split('\\n')[0])\n",
    "        \n",
    "        try:\n",
    "            articles['DOI'].append(driver.find_element(By.CSS_SELECTOR, '#full-view-identifiers').text.split(' ')[-1])\n",
    "        except:\n",
    "            articles['DOI'].append('')\n",
    "            \n",
    "        try:\n",
    "            articles['authors'].append(driver.find_element(By.CSS_SELECTOR, 'div.authors').text.split(','))\n",
    "        except:\n",
    "            articles['authors'].append('')\n",
    "\n",
    "        try:\n",
    "            articles['affiliations'].append(driver.find_element(By.CSS_SELECTOR, 'div.affiliations').text.split('\\n')[2::2])\n",
    "        except:\n",
    "            articles['affiliations'].append('')\n",
    "\n",
    "        try:\n",
    "            articles['year'].append(driver.find_element(By.CSS_SELECTOR, 'div.article-source').text.split('.')[1].strip()[:4])\n",
    "        except:\n",
    "            articles['year'].append('')\n",
    "\n",
    "        try:\n",
    "            articles['month'].append(driver.find_element(By.CSS_SELECTOR, 'div.article-source').text.split('.')[1].strip()[5:8])  \n",
    "        except:\n",
    "            articles['month'].append('')\n",
    "\n",
    "        try:\n",
    "            articles['volume'].append(driver.find_element(By.CSS_SELECTOR, 'div.article-source').text.split(';')[1].strip().split(':')[0])\n",
    "        except:\n",
    "            articles['volume'].append('')\n",
    "\n",
    "        try:\n",
    "            articles['first_page'].append(driver.find_element(By.CSS_SELECTOR, 'div.article-source').text.split(';')[1].strip().split(':')[1].split('.')[0].split('-')[0])\n",
    "        except:\n",
    "            articles['first_page'].append(driver.find_element(By.CSS_SELECTOR, 'div.article-source').text)\n",
    "\n",
    "        try:        \n",
    "            articles['last_page'].append(driver.find_element(By.CSS_SELECTOR, 'div.article-source').text.split(';')[1].strip().split(':')[1].split('.')[0].split('-')[1])\n",
    "        except:\n",
    "            articles['last_page'].append('')\n",
    "\n",
    "        try:        \n",
    "            articles['PMID'].append(driver.find_element(By.CSS_SELECTOR, '#full-view-identifiers').text.split(' ')[1])\n",
    "        except:\n",
    "            articles['PMID'].append('')\n",
    "\n",
    "        try:\n",
    "            articles['PMCID'].append(driver.find_element(By.CSS_SELECTOR, '#full-view-identifiers').text.split(' ')[3])\n",
    "        except:\n",
    "            articles['PMCID'].append('')\n",
    "\n",
    "        try:\n",
    "            articles['abstract'].append(driver.find_element(By.CSS_SELECTOR, '#abstract').text.split('\\n')[1:])\n",
    "        except:\n",
    "            articles['abstract'].append('')\n",
    "        \n",
    "        try:\n",
    "            # Go to the next article\n",
    "            if len(driver.find_elements(By.CSS_SELECTOR, 'a.arrow-link:nth-child(1)')) == 1:\n",
    "                driver.find_elements(By.CSS_SELECTOR, 'a.arrow-link:nth-child(1)')[0].click()\n",
    "            else:\n",
    "                driver.find_elements(By.CSS_SELECTOR, 'a.arrow-link:nth-child(1)')[1].click()\n",
    "\n",
    "            # Wait 2 seconds\n",
    "            time.sleep(1)\n",
    "            \n",
    "        except:\n",
    "            break"
   ]
  },
  {
   "cell_type": "code",
   "execution_count": 28,
   "id": "67a27b2e",
   "metadata": {},
   "outputs": [],
   "source": [
    "driver.quit()"
   ]
  },
  {
   "cell_type": "code",
   "execution_count": null,
   "id": "79ba6c30",
   "metadata": {},
   "outputs": [],
   "source": [
    "articles_df = pd.DataFrame(articles)\n",
    "articles_df\n",
    "len(articles_df)"
   ]
  },
  {
   "cell_type": "code",
   "execution_count": 78,
   "id": "0c3f985f",
   "metadata": {},
   "outputs": [],
   "source": [
    "articles_df.to_csv('../data/pubmed_articles_raw.csv', index = False)"
   ]
  }
 ],
 "metadata": {
  "kernelspec": {
   "display_name": "Python 3 (ipykernel)",
   "language": "python",
   "name": "python3"
  },
  "language_info": {
   "codemirror_mode": {
    "name": "ipython",
    "version": 3
   },
   "file_extension": ".py",
   "mimetype": "text/x-python",
   "name": "python",
   "nbconvert_exporter": "python",
   "pygments_lexer": "ipython3",
   "version": "3.10.9"
  }
 },
 "nbformat": 4,
 "nbformat_minor": 5
}
