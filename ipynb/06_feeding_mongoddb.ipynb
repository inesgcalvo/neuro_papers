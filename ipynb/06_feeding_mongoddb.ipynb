{
 "cells": [
  {
   "cell_type": "markdown",
   "id": "4d2a515e",
   "metadata": {},
   "source": [
    "# 06. Feeding MongoDB"
   ]
  },
  {
   "cell_type": "code",
   "execution_count": 1,
   "id": "01e2fd1f",
   "metadata": {},
   "outputs": [],
   "source": [
    "# Import Libraries\n",
    "\n",
    "import sys\n",
    "import time\n",
    "import pymongo\n",
    "from tqdm.notebook import tqdm\n",
    "\n",
    "# from pymongo import MongoClient\n",
    "from IPython.display import clear_output"
   ]
  },
  {
   "cell_type": "code",
   "execution_count": null,
   "id": "a245b702",
   "metadata": {},
   "outputs": [],
   "source": [
    "\n",
    "\n",
    "client = pymongo.MongoClient(\"mongodb://localhost:27017\")\n",
    "\n",
    "# Crear una colección en MongoDB\n",
    "db = client[\"my_database\"]\n",
    "collection = db[\"my_collection\"]\n",
    "\n",
    "# Insertar la dataframe de Pandas en MongoDB\n",
    "collection.insert_many(df.to_dict(\"records\"))\n",
    "\n",
    "# Cerrar la conexión con MongoDB\n",
    "client.close()\n",
    "\n",
    "\n",
    "import pandas as pd\n",
    "import pymongo\n",
    "\n",
    "# Crear una dataframe de Pandas\n",
    "df = pd.DataFrame({\n",
    "    \"name\": [\"John Doe\", \"Jane Doe\", \"John Smith\"],\n",
    "    \"age\": [30, 25, 40],\n",
    "    \"city\": [\"New York\", \"Los Angeles\", \"Chicago\"]\n",
    "})\n",
    "\n",
    "# Crear una conexión con MongoDB\n",
    "client = pymongo.MongoClient(\"mongodb://localhost:27017\")\n",
    "\n",
    "# Crear una colección en MongoDB\n",
    "db = client[\"my_database\"]\n",
    "collection = db[\"my_collection\"]\n",
    "\n",
    "# Insertar la dataframe de Pandas en MongoDB\n",
    "collection.insert_many(df.values.tolist())\n",
    "\n",
    "# Cerrar la conexión con MongoDB\n",
    "client.close()"
   ]
  }
 ],
 "metadata": {
  "kernelspec": {
   "display_name": "Python 3 (ipykernel)",
   "language": "python",
   "name": "python3"
  },
  "language_info": {
   "codemirror_mode": {
    "name": "ipython",
    "version": 3
   },
   "file_extension": ".py",
   "mimetype": "text/x-python",
   "name": "python",
   "nbconvert_exporter": "python",
   "pygments_lexer": "ipython3",
   "version": "3.10.9"
  }
 },
 "nbformat": 4,
 "nbformat_minor": 5
}
